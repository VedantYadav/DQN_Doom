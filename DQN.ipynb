{
 "cells": [
  {
   "cell_type": "code",
   "execution_count": 55,
   "metadata": {
    "collapsed": true
   },
   "outputs": [],
   "source": [
    "# import tensorflow as tf\n",
    "import random\n",
    "import numpy as np\n",
    "from vizdoom import *\n",
    "from collections import deque\n",
    "from skimage import transform"
   ]
  },
  {
   "cell_type": "markdown",
   "metadata": {
    "collapsed": true
   },
   "source": [
    "# Setup environment "
   ]
  },
  {
   "cell_type": "code",
   "execution_count": 11,
   "metadata": {
    "collapsed": true
   },
   "outputs": [],
   "source": [
    "def create_env():\n",
    "    game = DoomGame()\n",
    "    game.load_config(\"./ViZDoom-1.1.5pre-Win-Python36-x86_64/ViZDoom-1.1.5pre-Win-Python36-x86_64/vizdoom/scenarios/basic.cfg\")\n",
    "    game.set_doom_scenario_path(\"./ViZDoom-1.1.5pre-Win-Python36-x86_64/ViZDoom-1.1.5pre-Win-Python36-x86_64/vizdoom/scenarios/basic.wad\")\n",
    "#     game.init()\n",
    "    \n",
    "    shoot = [0,0,1]\n",
    "    left = [1,0,0]\n",
    "    right = [0,1,0]\n",
    "    possible_action = [shoot,left,right]\n",
    "    \n",
    "    return game,possible"
   ]
  },
  {
   "cell_type": "code",
   "execution_count": 9,
   "metadata": {
    "collapsed": true
   },
   "outputs": [],
   "source": [
    "def test():\n",
    "    game = DoomGame()\n",
    "    game.load_config(\"./ViZDoom-1.1.5pre-Win-Python36-x86_64/ViZDoom-1.1.5pre-Win-Python36-x86_64/vizdoom/scenarios/basic.cfg\")\n",
    "    game.set_doom_scenario_path(\"./ViZDoom-1.1.5pre-Win-Python36-x86_64/ViZDoom-1.1.5pre-Win-Python36-x86_64/vizdoom/scenarios/basic.wad\")\n",
    "#     game.set_mode(Mode.ASYNC_PLAYER)\n",
    "\n",
    "    game.init()\n",
    "\n",
    "    shoot = [0,0,1]\n",
    "    left = [1,0,0]\n",
    "    right = [0,1,0]\n",
    "\n",
    "    episodes = 10\n",
    "    for i in range(episodes):\n",
    "        game.new_episode()\n",
    "        while not game.is_episode_finished():\n",
    "            state = game.get_state()\n",
    "            img = state.screen_buffer\n",
    "            misc = state.game_variables\n",
    "            action = random.choice([shoot, left, right]) # A random agent\n",
    "            reward = game.make_action(action)\n",
    "            time.sleep(0.02) # Just to make it slower\n",
    "            \n",
    "            \n",
    "        print(\"Total reward: \" + str(game.get_total_reward()))\n",
    "    game.close()"
   ]
  },
  {
   "cell_type": "code",
   "execution_count": 40,
   "metadata": {},
   "outputs": [],
   "source": [
    "class inp_data:\n",
    "\n",
    "    def __init__(self):\n",
    "        self.que = deque(maxlen=4)\n",
    "    \n",
    "    def add(self,frame):\n",
    "        self.que.append(frame)\n",
    "        return np.stack(self.que,axis=0)"
   ]
  },
  {
   "cell_type": "code",
   "execution_count": 56,
   "metadata": {
    "collapsed": true
   },
   "outputs": [],
   "source": [
    "def preprocess(frame):\n",
    "    \n",
    "    frame = frame.mean(axis=0,dtype = np.int)\n",
    "    crop_frame = frame[30:-10,30:-30]\n",
    "    frame = crop_frame/255\n",
    "    return transform.resize(frame,[84,84])"
   ]
  },
  {
   "cell_type": "code",
   "execution_count": null,
   "metadata": {
    "collapsed": true
   },
   "outputs": [],
   "source": []
  }
 ],
 "metadata": {
  "kernelspec": {
   "display_name": "Python 3",
   "language": "python",
   "name": "python3"
  },
  "language_info": {
   "codemirror_mode": {
    "name": "ipython",
    "version": 3
   },
   "file_extension": ".py",
   "mimetype": "text/x-python",
   "name": "python",
   "nbconvert_exporter": "python",
   "pygments_lexer": "ipython3",
   "version": "3.6.2"
  }
 },
 "nbformat": 4,
 "nbformat_minor": 2
}
